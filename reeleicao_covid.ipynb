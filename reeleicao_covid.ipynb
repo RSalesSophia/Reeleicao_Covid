{
 "cells": [
  {
   "cell_type": "markdown",
   "metadata": {},
   "source": [
    "* #### Importando pacotes"
   ]
  },
  {
   "cell_type": "code",
   "execution_count": null,
   "metadata": {},
   "outputs": [],
   "source": [
    "library(dplyr)\n",
    "library(magrittr)\n",
    "library(electionsBR)\n",
    "library(fuzzyjoin)\n",
    "library(ggplot2)\n",
    "library(extrafont)\n",
    "library(stringi)"
   ]
  },
  {
   "cell_type": "code",
   "execution_count": 3,
   "metadata": {},
   "outputs": [],
   "source": [
    "informacao_16 = read.csv(\"informacao_2016.csv\")\n",
    "\n",
    "informacao_20 = read.csv(\"informacao_2020.csv\")"
   ]
  },
  {
   "cell_type": "markdown",
   "metadata": {},
   "source": [
    "* #### Configurações de tela"
   ]
  },
  {
   "cell_type": "code",
   "execution_count": 4,
   "metadata": {},
   "outputs": [],
   "source": [
    "options(scipen = 999)\n",
    "windowsFonts(Times = windowsFont(\"TT Times New Roman\"))\n",
    "options(OutDec =  \",\")\n",
    "options(digits = 3)"
   ]
  },
  {
   "cell_type": "markdown",
   "metadata": {},
   "source": [
    "#### Importando as informações de **2016**"
   ]
  },
  {
   "cell_type": "code",
   "execution_count": null,
   "metadata": {},
   "outputs": [],
   "source": [
    "informacao_16 <- candidate_local(2016)"
   ]
  },
  {
   "cell_type": "markdown",
   "metadata": {},
   "source": [
    "* #### Descrição da base"
   ]
  },
  {
   "cell_type": "code",
   "execution_count": 6,
   "metadata": {},
   "outputs": [
    {
     "name": "stdout",
     "output_type": "stream",
     "text": [
      "Rows: 498.340\n",
      "Columns: 63\n",
      "$ DT_GERACAO                    \u001b[3m\u001b[90m<chr>\u001b[39m\u001b[23m \"18/02/2021\", \"18/02/2021\", \"18/02/2021\"~\n",
      "$ HH_GERACAO                    \u001b[3m\u001b[90m<time>\u001b[39m\u001b[23m 12:07:20, 12:07:20, 12:07:20, 12:07:20,~\n",
      "$ ANO_ELEICAO                   \u001b[3m\u001b[90m<dbl>\u001b[39m\u001b[23m 2016, 2016, 2016, 2016, 2016, 2016, 2016~\n",
      "$ CD_TIPO_ELEICAO               \u001b[3m\u001b[90m<dbl>\u001b[39m\u001b[23m 2, 2, 2, 2, 2, 2, 2, 2, 2, 2, 2, 2, 2, 2~\n",
      "$ NM_TIPO_ELEICAO               \u001b[3m\u001b[90m<chr>\u001b[39m\u001b[23m \"ELEIÇÃO ORDINÁRIA\", \"ELEIÇÃO ORDINÁRIA\"~\n",
      "$ NR_TURNO                      \u001b[3m\u001b[90m<dbl>\u001b[39m\u001b[23m 1, 1, 1, 1, 1, 1, 1, 1, 1, 1, 1, 1, 1, 1~\n",
      "$ CD_ELEICAO                    \u001b[3m\u001b[90m<dbl>\u001b[39m\u001b[23m 220, 220, 220, 220, 220, 220, 220, 220, ~\n",
      "$ DS_ELEICAO                    \u001b[3m\u001b[90m<chr>\u001b[39m\u001b[23m \"Eleições Municipais 2016\", \"Eleições Mu~\n",
      "$ DT_ELEICAO                    \u001b[3m\u001b[90m<chr>\u001b[39m\u001b[23m \"02/10/2016\", \"02/10/2016\", \"02/10/2016\"~\n",
      "$ TP_ABRANGENCIA                \u001b[3m\u001b[90m<chr>\u001b[39m\u001b[23m \"MUNICIPAL\", \"MUNICIPAL\", \"MUNICIPAL\", \"~\n",
      "$ SG_UF                         \u001b[3m\u001b[90m<chr>\u001b[39m\u001b[23m \"AC\", \"AC\", \"AC\", \"AC\", \"AC\", \"AC\", \"AC\"~\n",
      "$ SG_UE                         \u001b[3m\u001b[90m<chr>\u001b[39m\u001b[23m \"01112\", \"01511\", \"01570\", \"01538\", \"010~\n",
      "$ NM_UE                         \u001b[3m\u001b[90m<chr>\u001b[39m\u001b[23m \"EPITACIOLÂNDIA\", \"PLÁCIDO DE CASTRO\", \"~\n",
      "$ CD_CARGO                      \u001b[3m\u001b[90m<dbl>\u001b[39m\u001b[23m 13, 13, 13, 13, 12, 13, 11, 13, 13, 13, ~\n",
      "$ DS_CARGO                      \u001b[3m\u001b[90m<chr>\u001b[39m\u001b[23m \"VEREADOR\", \"VEREADOR\", \"VEREADOR\", \"VER~\n",
      "$ SQ_CANDIDATO                  \u001b[3m\u001b[90m<dbl>\u001b[39m\u001b[23m 10000001958, 10000003479, 10000002642, 1~\n",
      "$ NR_CANDIDATO                  \u001b[3m\u001b[90m<dbl>\u001b[39m\u001b[23m 40123, 36999, 13012, 55333, 45, 20201, 1~\n",
      "$ NM_CANDIDATO                  \u001b[3m\u001b[90m<chr>\u001b[39m\u001b[23m \"REURIANNY GOMES FERREIRA\", \"JUVECLECIA ~\n",
      "$ NM_URNA_CANDIDATO             \u001b[3m\u001b[90m<chr>\u001b[39m\u001b[23m \"REURIANNY\", \"JÚ GONZAGA\", \"MANOEL\", \"AD~\n",
      "$ NM_SOCIAL_CANDIDATO           \u001b[3m\u001b[90m<chr>\u001b[39m\u001b[23m \"#NULO#\", \"#NULO#\", \"#NULO#\", \"#NULO#\", ~\n",
      "$ NR_CPF_CANDIDATO              \u001b[3m\u001b[90m<chr>\u001b[39m\u001b[23m \"83513949200\", \"52486680268\", \"691259702~\n",
      "$ NM_EMAIL                      \u001b[3m\u001b[90m<chr>\u001b[39m\u001b[23m \"JOSUEWILLIAN@UOL.COM.BR\", \"ZEMILTON10@H~\n",
      "$ CD_SITUACAO_CANDIDATURA       \u001b[3m\u001b[90m<dbl>\u001b[39m\u001b[23m 12, 12, 12, 12, 12, 12, 12, 12, 12, 12, ~\n",
      "$ DS_SITUACAO_CANDIDATURA       \u001b[3m\u001b[90m<chr>\u001b[39m\u001b[23m \"APTO\", \"APTO\", \"APTO\", \"APTO\", \"APTO\", ~\n",
      "$ CD_DETALHE_SITUACAO_CAND      \u001b[3m\u001b[90m<dbl>\u001b[39m\u001b[23m 2, 2, 2, 2, 2, 2, 2, 2, 2, 2, 2, 2, 14, ~\n",
      "$ DS_DETALHE_SITUACAO_CAND      \u001b[3m\u001b[90m<chr>\u001b[39m\u001b[23m \"DEFERIDO\", \"DEFERIDO\", \"DEFERIDO\", \"DEF~\n",
      "$ TP_AGREMIACAO                 \u001b[3m\u001b[90m<chr>\u001b[39m\u001b[23m \"COLIGAÇÃO\", \"COLIGAÇÃO\", \"COLIGAÇÃO\", \"~\n",
      "$ NR_PARTIDO                    \u001b[3m\u001b[90m<dbl>\u001b[39m\u001b[23m 40, 36, 13, 55, 10, 20, 11, 13, 25, 43, ~\n",
      "$ SG_PARTIDO                    \u001b[3m\u001b[90m<chr>\u001b[39m\u001b[23m \"PSB\", \"PTC\", \"PT\", \"PSD\", \"PRB\", \"PSC\",~\n",
      "$ NM_PARTIDO                    \u001b[3m\u001b[90m<chr>\u001b[39m\u001b[23m \"PARTIDO SOCIALISTA BRASILEIRO\", \"PARTID~\n",
      "$ SQ_COLIGACAO                  \u001b[3m\u001b[90m<dbl>\u001b[39m\u001b[23m 10000000184, 10000000272, 10000000247, 1~\n",
      "$ NM_COLIGACAO                  \u001b[3m\u001b[90m<chr>\u001b[39m\u001b[23m \"UNIÃO DEMOCRATICA DE EPITACIOLANDIA II\"~\n",
      "$ DS_COMPOSICAO_COLIGACAO       \u001b[3m\u001b[90m<chr>\u001b[39m\u001b[23m \"PSB / PTC\", \"PP / PTC / PV\", \"PT / PSL ~\n",
      "$ CD_NACIONALIDADE              \u001b[3m\u001b[90m<dbl>\u001b[39m\u001b[23m 1, 1, 1, 1, 1, 1, 1, 1, 1, 1, 1, 1, 1, 1~\n",
      "$ DS_NACIONALIDADE              \u001b[3m\u001b[90m<chr>\u001b[39m\u001b[23m \"BRASILEIRA NATA\", \"BRASILEIRA NATA\", \"B~\n",
      "$ SG_UF_NASCIMENTO              \u001b[3m\u001b[90m<chr>\u001b[39m\u001b[23m \"AC\", \"AC\", \"AC\", \"AC\", \"AC\", \"AC\", \"AC\"~\n",
      "$ CD_MUNICIPIO_NASCIMENTO       \u001b[3m\u001b[90m<dbl>\u001b[39m\u001b[23m -3, -3, -3, -3, -3, -3, -3, -3, -3, -3, ~\n",
      "$ NM_MUNICIPIO_NASCIMENTO       \u001b[3m\u001b[90m<chr>\u001b[39m\u001b[23m \"SENADOR GUIOMARD\", \"BRASILEIA\", \"ASSIS ~\n",
      "$ DT_NASCIMENTO                 \u001b[3m\u001b[90m<chr>\u001b[39m\u001b[23m \"10/11/1985\", \"31/01/1984\", \"11/09/1976\"~\n",
      "$ NR_IDADE_DATA_POSSE           \u001b[3m\u001b[90m<dbl>\u001b[39m\u001b[23m 31, 32, 40, 31, 52, 35, 45, 47, 31, 51, ~\n",
      "$ NR_TITULO_ELEITORAL_CANDIDATO \u001b[3m\u001b[90m<chr>\u001b[39m\u001b[23m \"004633562437\", \"004348502488\", \"0027751~\n",
      "$ CD_GENERO                     \u001b[3m\u001b[90m<dbl>\u001b[39m\u001b[23m 4, 4, 2, 2, 2, 2, 2, 2, 2, 2, 2, 2, 4, 2~\n",
      "$ DS_GENERO                     \u001b[3m\u001b[90m<chr>\u001b[39m\u001b[23m \"FEMININO\", \"FEMININO\", \"MASCULINO\", \"MA~\n",
      "$ CD_GRAU_INSTRUCAO             \u001b[3m\u001b[90m<dbl>\u001b[39m\u001b[23m 8, 4, 6, 4, 8, 6, 4, 4, 4, 4, 6, 6, 6, 6~\n",
      "$ DS_GRAU_INSTRUCAO             \u001b[3m\u001b[90m<chr>\u001b[39m\u001b[23m \"SUPERIOR COMPLETO\", \"ENSINO FUNDAMENTAL~\n",
      "$ CD_ESTADO_CIVIL               \u001b[3m\u001b[90m<dbl>\u001b[39m\u001b[23m 1, 3, 1, 1, 3, 1, 3, 3, 1, 3, 1, 1, 9, 3~\n",
      "$ DS_ESTADO_CIVIL               \u001b[3m\u001b[90m<chr>\u001b[39m\u001b[23m \"SOLTEIRO(A)\", \"CASADO(A)\", \"SOLTEIRO(A)~\n",
      "$ CD_COR_RACA                   \u001b[3m\u001b[90m<chr>\u001b[39m\u001b[23m \"03\", \"03\", \"01\", \"03\", \"01\", \"03\", \"03\"~\n",
      "$ DS_COR_RACA                   \u001b[3m\u001b[90m<chr>\u001b[39m\u001b[23m \"PARDA\", \"PARDA\", \"BRANCA\", \"PARDA\", \"BR~\n",
      "$ CD_OCUPACAO                   \u001b[3m\u001b[90m<dbl>\u001b[39m\u001b[23m 999, 999, 128, 999, 297, 221, 257, 243, ~\n",
      "$ DS_OCUPACAO                   \u001b[3m\u001b[90m<chr>\u001b[39m\u001b[23m \"OUTROS\", \"OUTROS\", \"ASTRÔNOMO\", \"OUTROS~\n",
      "$ VR_DESPESA_MAX_CAMPANHA       \u001b[3m\u001b[90m<dbl>\u001b[39m\u001b[23m 10804, 33473, 10804, 19365, -1, 21313, 1~\n",
      "$ CD_SIT_TOT_TURNO              \u001b[3m\u001b[90m<dbl>\u001b[39m\u001b[23m 5, 5, 5, 5, 4, 5, 4, 5, 4, 4, 4, 5, -1, ~\n",
      "$ DS_SIT_TOT_TURNO              \u001b[3m\u001b[90m<chr>\u001b[39m\u001b[23m \"SUPLENTE\", \"SUPLENTE\", \"SUPLENTE\", \"SUP~\n",
      "$ ST_REELEICAO                  \u001b[3m\u001b[90m<chr>\u001b[39m\u001b[23m \"N\", \"N\", \"N\", \"N\", \"N\", \"N\", \"N\", \"N\", ~\n",
      "$ ST_DECLARAR_BENS              \u001b[3m\u001b[90m<chr>\u001b[39m\u001b[23m \"S\", \"N\", \"N\", \"N\", \"S\", \"S\", \"S\", \"S\", ~\n",
      "$ NR_PROTOCOLO_CANDIDATURA      \u001b[3m\u001b[90m<chr>\u001b[39m\u001b[23m \"47652016\", \"73252016\", \"56052016\", \"591~\n",
      "$ NR_PROCESSO                   \u001b[3m\u001b[90m<chr>\u001b[39m\u001b[23m \"1194820166010006\", \"6061220166010008\", ~\n",
      "$ CD_SITUACAO_CANDIDATO_PLEITO  \u001b[3m\u001b[90m<dbl>\u001b[39m\u001b[23m 2, 2, 2, 2, 2, 2, 2, 2, 2, 2, 2, 2, -1, ~\n",
      "$ DS_SITUACAO_CANDIDATO_PLEITO  \u001b[3m\u001b[90m<chr>\u001b[39m\u001b[23m \"DEFERIDO\", \"DEFERIDO\", \"DEFERIDO\", \"DEF~\n",
      "$ CD_SITUACAO_CANDIDATO_URNA    \u001b[3m\u001b[90m<dbl>\u001b[39m\u001b[23m 2, 2, 2, 2, 2, 2, 2, 2, 2, 2, 2, 2, -1, ~\n",
      "$ DS_SITUACAO_CANDIDATO_URNA    \u001b[3m\u001b[90m<chr>\u001b[39m\u001b[23m \"DEFERIDO\", \"DEFERIDO\", \"DEFERIDO\", \"DEF~\n",
      "$ ST_CANDIDATO_INSERIDO_URNA    \u001b[3m\u001b[90m<chr>\u001b[39m\u001b[23m \"SIM\", \"SIM\", \"SIM\", \"SIM\", \"SIM\", \"SIM\"~\n"
     ]
    }
   ],
   "source": [
    "glimpse(informacao_16)"
   ]
  },
  {
   "cell_type": "markdown",
   "metadata": {},
   "source": [
    "* #### Selecionando variáveis e filtrando informações "
   ]
  },
  {
   "cell_type": "code",
   "execution_count": 5,
   "metadata": {},
   "outputs": [],
   "source": [
    "# Eleitos no 1º turno\n",
    "turno_1 = informacao_16 %>%\n",
    "  filter(DS_CARGO == \"PREFEITO\" & CD_TIPO_ELEICAO == 2 & NR_TURNO == 1 &\n",
    "           DS_SIT_TOT_TURNO == \"ELEITO\") %>%\n",
    "  select(SG_UE, NM_UE, NM_CANDIDATO, DT_ELEICAO)\n",
    "\n",
    "  #Eleitos no 2º turno\n",
    "turno_2 = informacao_16 %>%\n",
    "  filter(DS_CARGO == \"PREFEITO\" & CD_TIPO_ELEICAO == 2 & NR_TURNO == 2 &\n",
    "           DS_SIT_TOT_TURNO == \"ELEITO\") %>%\n",
    "  select(SG_UE, NM_UE, NM_CANDIDATO, DT_ELEICAO)\n",
    "\n",
    "  #União dos dois turnos\n",
    "inf_16  = rbind(turno_1, turno_2)"
   ]
  },
  {
   "cell_type": "markdown",
   "metadata": {},
   "source": [
    "Tendo em vista que pode ter prefeitos eleitos em 2016 que foram cassados ou deixaram o cargo, irei filtrar as eleições suplementares e considerar os candidatos eleitos nessas eleições. Isto é, caso tenha ocorrido uma eleição suplementar no município, serão considerados os candidatos eleitos dessa eleição, não da eleição ordinária."
   ]
  },
  {
   "cell_type": "code",
   "execution_count": 6,
   "metadata": {},
   "outputs": [],
   "source": [
    "suple = informacao_16 %>%\n",
    "    filter(DS_CARGO == \"PREFEITO\" & CD_TIPO_ELEICAO == 1 &\n",
    "    DS_SIT_TOT_TURNO == \"ELEITO\") %>%\n",
    "    select(SG_UE, NM_UE, NM_CANDIDATO, DT_ELEICAO)"
   ]
  },
  {
   "cell_type": "markdown",
   "metadata": {},
   "source": [
    "Através do `anti_join` as informações das eleições ordinárias dos municípios que tiveram as suplementares serão excluídas em *inf_16*. A intenção aqui é considerar o último prefeito do municipio para aquela eleição. Posteriormente uni-se a base resultante com *suple*."
   ]
  },
  {
   "cell_type": "code",
   "execution_count": 8,
   "metadata": {},
   "outputs": [],
   "source": [
    "#Realizando o anti_join\n",
    "anti = anti_join(inf_16, suple, by = \"SG_UE\")\n",
    "\n",
    "#União das bases\n",
    "inf_16 = rbind(anti, suple)"
   ]
  },
  {
   "cell_type": "markdown",
   "metadata": {},
   "source": [
    "* #### Descrição da base "
   ]
  },
  {
   "cell_type": "code",
   "execution_count": 9,
   "metadata": {},
   "outputs": [
    {
     "name": "stdout",
     "output_type": "stream",
     "text": [
      "Rows: 5.561\n",
      "Columns: 4\n",
      "$ SG_UE        \u001b[3m\u001b[90m<int>\u001b[39m\u001b[23m 1490, 1104, 1538, 1040, 1058, 1392, 1570, 1090, 1112, 108~\n",
      "$ NM_UE        \u001b[3m\u001b[90m<chr>\u001b[39m\u001b[23m \"XAPURI\", \"JORDÃO\", \"SENADOR GUIOMARD\", \"MARECHAL THAUMAT~\n",
      "$ NM_CANDIDATO \u001b[3m\u001b[90m<chr>\u001b[39m\u001b[23m \"FRANCISCO UBIRACY MACHADO DE VASCONCELOS\", \"ELSON DE LIM~\n",
      "$ DT_ELEICAO   \u001b[3m\u001b[90m<chr>\u001b[39m\u001b[23m \"02/10/2016\", \"02/10/2016\", \"02/10/2016\", \"02/10/2016\", \"~\n"
     ]
    }
   ],
   "source": [
    "glimpse(inf_16)"
   ]
  },
  {
   "cell_type": "code",
   "execution_count": 11,
   "metadata": {},
   "outputs": [
    {
     "data": {
      "text/html": [
       "5560"
      ],
      "text/latex": [
       "5560"
      ],
      "text/markdown": [
       "5560"
      ],
      "text/plain": [
       "[1] 5560"
      ]
     },
     "metadata": {},
     "output_type": "display_data"
    }
   ],
   "source": [
    "#Conferindo se as informações são distintas\n",
    "n_distinct(inf_16$SG_UE)"
   ]
  },
  {
   "cell_type": "markdown",
   "metadata": {},
   "source": [
    "Tendo em vista que existe uma informação referente a sg_ue que não é única. Descobre-se qual é: "
   ]
  },
  {
   "cell_type": "code",
   "execution_count": 10,
   "metadata": {},
   "outputs": [
    {
     "data": {
      "text/html": [
       "<table class=\"dataframe\">\n",
       "<caption>A grouped_df: 2 × 5</caption>\n",
       "<thead>\n",
       "\t<tr><th scope=col>SG_UE</th><th scope=col>NM_UE</th><th scope=col>NM_CANDIDATO</th><th scope=col>DT_ELEICAO</th><th scope=col>n</th></tr>\n",
       "\t<tr><th scope=col>&lt;int&gt;</th><th scope=col>&lt;chr&gt;</th><th scope=col>&lt;chr&gt;</th><th scope=col>&lt;chr&gt;</th><th scope=col>&lt;int&gt;</th></tr>\n",
       "</thead>\n",
       "<tbody>\n",
       "\t<tr><td>15695</td><td>TIANGUÁ</td><td>LUIZ MENEZES DE LIMA          </td><td>27/10/2019</td><td>2</td></tr>\n",
       "\t<tr><td>15695</td><td>TIANGUÁ</td><td>JOSÉ JAYDSON SARAIVA DE AGUIAR</td><td>03/06/2018</td><td>2</td></tr>\n",
       "</tbody>\n",
       "</table>\n"
      ],
      "text/latex": [
       "A grouped\\_df: 2 × 5\n",
       "\\begin{tabular}{lllll}\n",
       " SG\\_UE & NM\\_UE & NM\\_CANDIDATO & DT\\_ELEICAO & n\\\\\n",
       " <int> & <chr> & <chr> & <chr> & <int>\\\\\n",
       "\\hline\n",
       "\t 15695 & TIANGUÁ & LUIZ MENEZES DE LIMA           & 27/10/2019 & 2\\\\\n",
       "\t 15695 & TIANGUÁ & JOSÉ JAYDSON SARAIVA DE AGUIAR & 03/06/2018 & 2\\\\\n",
       "\\end{tabular}\n"
      ],
      "text/markdown": [
       "\n",
       "A grouped_df: 2 × 5\n",
       "\n",
       "| SG_UE &lt;int&gt; | NM_UE &lt;chr&gt; | NM_CANDIDATO &lt;chr&gt; | DT_ELEICAO &lt;chr&gt; | n &lt;int&gt; |\n",
       "|---|---|---|---|---|\n",
       "| 15695 | TIANGUÁ | LUIZ MENEZES DE LIMA           | 27/10/2019 | 2 |\n",
       "| 15695 | TIANGUÁ | JOSÉ JAYDSON SARAIVA DE AGUIAR | 03/06/2018 | 2 |\n",
       "\n"
      ],
      "text/plain": [
       "  SG_UE NM_UE   NM_CANDIDATO                   DT_ELEICAO n\n",
       "1 15695 TIANGUÁ LUIZ MENEZES DE LIMA           27/10/2019 2\n",
       "2 15695 TIANGUÁ JOSÉ JAYDSON SARAIVA DE AGUIAR 03/06/2018 2"
      ]
     },
     "metadata": {},
     "output_type": "display_data"
    }
   ],
   "source": [
    "inf_16 %>% \n",
    "  group_by(SG_UE) %>% \n",
    "  mutate(n = n()) %>%\n",
    "  filter(n == 2)"
   ]
  },
  {
   "cell_type": "markdown",
   "metadata": {},
   "source": [
    "O município de TIANGUÁ teve duas eleições suplementares. Então vamos excluir de *inf_16* a informação mais nova - DATA: 03/06/2018"
   ]
  },
  {
   "cell_type": "code",
   "execution_count": 11,
   "metadata": {},
   "outputs": [],
   "source": [
    "inf_16 %<>%\n",
    "  filter(!(SG_UE == 15695 & DT_ELEICAO == \"03/06/2018\"))"
   ]
  },
  {
   "cell_type": "markdown",
   "metadata": {},
   "source": [
    "Criando uma chave com o nome do candidato e da cidade. Com ela, irei identificar o candidato eleito em 2016 que concorreu em 2020."
   ]
  },
  {
   "cell_type": "code",
   "execution_count": 12,
   "metadata": {},
   "outputs": [],
   "source": [
    "inf_16 %<>%\n",
    "  mutate(CHAVE = paste0(NM_UE, NM_CANDIDATO))"
   ]
  },
  {
   "cell_type": "markdown",
   "metadata": {},
   "source": [
    "Provalvemente por erros de registro, podem ocorrer diferenças de um ano para o outro no registro do nome do candidato ou do município. Assim, retiro todos os acentos, espaços em branco, apóstrofos e hifens dessa chave para diminuir esses problemas. "
   ]
  },
  {
   "cell_type": "code",
   "execution_count": 13,
   "metadata": {},
   "outputs": [],
   "source": [
    "#Retirando todos os acentos dessa chave\n",
    "inf_16$CHAVE = stri_trans_general(str = inf_16$CHAVE, id = \"Latin-ASCII\")\n",
    "\n",
    "#Retirando os espaços brancos\n",
    "inf_16$CHAVE = gsub(\" \", \"\", inf_16$CHAVE, fixed = TRUE)\n",
    "\n",
    "#Retirando os apóstrofos\n",
    "inf_16$CHAVE = gsub(\"'\", \"\", inf_16$CHAVE, fixed = TRUE)\n",
    "\n",
    "#Retirando os traços\n",
    "inf_16$CHAVE = gsub(\"-\", \"\", inf_16$CHAVE, fixed = TRUE)"
   ]
  },
  {
   "cell_type": "markdown",
   "metadata": {},
   "source": [
    "#### **Importando as informações de 2020**"
   ]
  },
  {
   "cell_type": "code",
   "execution_count": null,
   "metadata": {},
   "outputs": [],
   "source": [
    "informacao_20 <- candidate_local(2020)"
   ]
  },
  {
   "cell_type": "markdown",
   "metadata": {},
   "source": [
    "#### Descrição da base"
   ]
  },
  {
   "cell_type": "code",
   "execution_count": 14,
   "metadata": {},
   "outputs": [
    {
     "name": "stdout",
     "output_type": "stream",
     "text": [
      "Rows: 557.990\n",
      "Columns: 63\n",
      "$ DT_GERACAO                    \u001b[3m\u001b[90m<chr>\u001b[39m\u001b[23m \"25/01/2022\", \"25/01/2022\", \"25/01/2022\"~\n",
      "$ HH_GERACAO                    \u001b[3m\u001b[90m<chr>\u001b[39m\u001b[23m \"06:20:40\", \"06:20:40\", \"06:20:40\", \"06:~\n",
      "$ ANO_ELEICAO                   \u001b[3m\u001b[90m<int>\u001b[39m\u001b[23m 2020, 2020, 2020, 2020, 2020, 2020, 2020~\n",
      "$ CD_TIPO_ELEICAO               \u001b[3m\u001b[90m<int>\u001b[39m\u001b[23m 2, 2, 2, 2, 2, 2, 2, 2, 2, 2, 2, 2, 2, 2~\n",
      "$ NM_TIPO_ELEICAO               \u001b[3m\u001b[90m<chr>\u001b[39m\u001b[23m \"ELEIÇÃO ORDINÁRIA\", \"ELEIÇÃO ORDINÁRIA\"~\n",
      "$ NR_TURNO                      \u001b[3m\u001b[90m<int>\u001b[39m\u001b[23m 1, 1, 1, 1, 1, 1, 1, 1, 1, 1, 1, 1, 1, 1~\n",
      "$ CD_ELEICAO                    \u001b[3m\u001b[90m<int>\u001b[39m\u001b[23m 426, 426, 426, 426, 426, 426, 426, 426, ~\n",
      "$ DS_ELEICAO                    \u001b[3m\u001b[90m<chr>\u001b[39m\u001b[23m \"Eleições Municipais 2020\", \"Eleições Mu~\n",
      "$ DT_ELEICAO                    \u001b[3m\u001b[90m<chr>\u001b[39m\u001b[23m \"15/11/2020\", \"15/11/2020\", \"15/11/2020\"~\n",
      "$ TP_ABRANGENCIA                \u001b[3m\u001b[90m<chr>\u001b[39m\u001b[23m \"MUNICIPAL\", \"MUNICIPAL\", \"MUNICIPAL\", \"~\n",
      "$ SG_UF                         \u001b[3m\u001b[90m<chr>\u001b[39m\u001b[23m \"AC\", \"AC\", \"AC\", \"AC\", \"AC\", \"AC\", \"AC\"~\n",
      "$ SG_UE                         \u001b[3m\u001b[90m<int>\u001b[39m\u001b[23m 1015, 1392, 1023, 1015, 1104, 1112, 1015~\n",
      "$ NM_UE                         \u001b[3m\u001b[90m<chr>\u001b[39m\u001b[23m \"CAPIXABA\", \"RIO BRANCO\", \"PORTO ACRE\", ~\n",
      "$ CD_CARGO                      \u001b[3m\u001b[90m<int>\u001b[39m\u001b[23m 13, 13, 13, 13, 13, 13, 13, 13, 13, 13, ~\n",
      "$ DS_CARGO                      \u001b[3m\u001b[90m<chr>\u001b[39m\u001b[23m \"VEREADOR\", \"VEREADOR\", \"VEREADOR\", \"VER~\n",
      "$ SQ_CANDIDATO                  \u001b[3m\u001b[90m<dbl>\u001b[39m\u001b[23m 10001253531, 10000967335, 10000646339, 1~\n",
      "$ NR_CANDIDATO                  \u001b[3m\u001b[90m<int>\u001b[39m\u001b[23m 15120, 20100, 10000, 77777, 55555, 19333~\n",
      "$ NM_CANDIDATO                  \u001b[3m\u001b[90m<chr>\u001b[39m\u001b[23m \"JAIR VIEIRA GARCIA\", \"JOSE MARIA DE OLI~\n",
      "$ NM_URNA_CANDIDATO             \u001b[3m\u001b[90m<chr>\u001b[39m\u001b[23m \"IRMÃO JAIR\", \"JOSE MARIA\", \"MARCELO MEL~\n",
      "$ NM_SOCIAL_CANDIDATO           \u001b[3m\u001b[90m<chr>\u001b[39m\u001b[23m \"#NULO#\", \"#NULO#\", \"#NULO#\", \"#NULO#\", ~\n",
      "$ NR_CPF_CANDIDATO              \u001b[3m\u001b[90m<chr>\u001b[39m\u001b[23m \"82024146287\", \"48385441204\", \"749910352~\n",
      "$ NM_EMAIL                      \u001b[3m\u001b[90m<chr>\u001b[39m\u001b[23m \"PEDROLUCASGARCIA8@GMAIL.COM\", \"JOSEMARI~\n",
      "$ CD_SITUACAO_CANDIDATURA       \u001b[3m\u001b[90m<int>\u001b[39m\u001b[23m 12, 12, 12, 12, 12, 12, 12, 12, 12, 12, ~\n",
      "$ DS_SITUACAO_CANDIDATURA       \u001b[3m\u001b[90m<chr>\u001b[39m\u001b[23m \"APTO\", \"APTO\", \"APTO\", \"APTO\", \"APTO\", ~\n",
      "$ CD_DETALHE_SITUACAO_CAND      \u001b[3m\u001b[90m<int>\u001b[39m\u001b[23m 2, 2, 2, 2, 2, 2, 2, 2, 2, 2, 2, 14, 2, ~\n",
      "$ DS_DETALHE_SITUACAO_CAND      \u001b[3m\u001b[90m<chr>\u001b[39m\u001b[23m \"DEFERIDO\", \"DEFERIDO\", \"DEFERIDO\", \"DEF~\n",
      "$ TP_AGREMIACAO                 \u001b[3m\u001b[90m<chr>\u001b[39m\u001b[23m \"PARTIDO ISOLADO\", \"PARTIDO ISOLADO\", \"P~\n",
      "$ NR_PARTIDO                    \u001b[3m\u001b[90m<int>\u001b[39m\u001b[23m 15, 20, 10, 77, 55, 19, 55, 19, 11, 12, ~\n",
      "$ SG_PARTIDO                    \u001b[3m\u001b[90m<chr>\u001b[39m\u001b[23m \"MDB\", \"PSC\", \"REPUBLICANOS\", \"SOLIDARIE~\n",
      "$ NM_PARTIDO                    \u001b[3m\u001b[90m<chr>\u001b[39m\u001b[23m \"MOVIMENTO DEMOCRÁTICO BRASILEIRO\", \"PAR~\n",
      "$ SQ_COLIGACAO                  \u001b[3m\u001b[90m<dbl>\u001b[39m\u001b[23m 10000157943, 10000112460, 10000057271, 1~\n",
      "$ NM_COLIGACAO                  \u001b[3m\u001b[90m<chr>\u001b[39m\u001b[23m \"PARTIDO ISOLADO\", \"PARTIDO ISOLADO\", \"P~\n",
      "$ DS_COMPOSICAO_COLIGACAO       \u001b[3m\u001b[90m<chr>\u001b[39m\u001b[23m \"MDB\", \"PSC\", \"REPUBLICANOS\", \"SOLIDARIE~\n",
      "$ CD_NACIONALIDADE              \u001b[3m\u001b[90m<int>\u001b[39m\u001b[23m 1, 1, 1, 1, 1, 1, 1, 1, 1, 1, 1, 1, 1, 1~\n",
      "$ DS_NACIONALIDADE              \u001b[3m\u001b[90m<chr>\u001b[39m\u001b[23m \"BRASILEIRA NATA\", \"BRASILEIRA NATA\", \"B~\n",
      "$ SG_UF_NASCIMENTO              \u001b[3m\u001b[90m<chr>\u001b[39m\u001b[23m \"AM\", \"AC\", \"AC\", \"AC\", \"AC\", \"AC\", \"AC\"~\n",
      "$ CD_MUNICIPIO_NASCIMENTO       \u001b[3m\u001b[90m<int>\u001b[39m\u001b[23m -3, -3, -3, -3, -3, -3, -3, -3, -3, -3, ~\n",
      "$ NM_MUNICIPIO_NASCIMENTO       \u001b[3m\u001b[90m<chr>\u001b[39m\u001b[23m \"BOCA DO ACRE\", \"CRUZEIRO DO SUL\", \"FEIJ~\n",
      "$ DT_NASCIMENTO                 \u001b[3m\u001b[90m<chr>\u001b[39m\u001b[23m \"30/04/1983\", \"21/01/1966\", \"08/04/1980\"~\n",
      "$ NR_IDADE_DATA_POSSE           \u001b[3m\u001b[90m<int>\u001b[39m\u001b[23m 37, 54, 40, 46, 42, 35, 33, 45, 33, 48, ~\n",
      "$ NR_TITULO_ELEITORAL_CANDIDATO \u001b[3m\u001b[90m<dbl>\u001b[39m\u001b[23m 3896382429, 413692402, 3986332402, 22731~\n",
      "$ CD_GENERO                     \u001b[3m\u001b[90m<int>\u001b[39m\u001b[23m 2, 2, 2, 2, 4, 4, 2, 2, 4, 4, 4, 4, 2, 2~\n",
      "$ DS_GENERO                     \u001b[3m\u001b[90m<chr>\u001b[39m\u001b[23m \"MASCULINO\", \"MASCULINO\", \"MASCULINO\", \"~\n",
      "$ CD_GRAU_INSTRUCAO             \u001b[3m\u001b[90m<int>\u001b[39m\u001b[23m 4, 6, 6, 6, 8, 7, 8, 6, 6, 5, 8, 8, 4, 4~\n",
      "$ DS_GRAU_INSTRUCAO             \u001b[3m\u001b[90m<chr>\u001b[39m\u001b[23m \"ENSINO FUNDAMENTAL COMPLETO\", \"ENSINO M~\n",
      "$ CD_ESTADO_CIVIL               \u001b[3m\u001b[90m<int>\u001b[39m\u001b[23m 9, 3, 1, 3, 9, 9, 3, 9, 1, 3, 3, 3, 3, 3~\n",
      "$ DS_ESTADO_CIVIL               \u001b[3m\u001b[90m<chr>\u001b[39m\u001b[23m \"DIVORCIADO(A)\", \"CASADO(A)\", \"SOLTEIRO(~\n",
      "$ CD_COR_RACA                   \u001b[3m\u001b[90m<int>\u001b[39m\u001b[23m 1, 3, 3, 3, 3, 3, 3, 3, 3, 3, 3, 3, 3, 3~\n",
      "$ DS_COR_RACA                   \u001b[3m\u001b[90m<chr>\u001b[39m\u001b[23m \"BRANCA\", \"PARDA\", \"PARDA\", \"PARDA\", \"PA~\n",
      "$ CD_OCUPACAO                   \u001b[3m\u001b[90m<int>\u001b[39m\u001b[23m 601, 999, 999, 297, 298, 117, 603, 601, ~\n",
      "$ DS_OCUPACAO                   \u001b[3m\u001b[90m<chr>\u001b[39m\u001b[23m \"AGRICULTOR\", \"OUTROS\", \"OUTROS\", \"SERVI~\n",
      "$ VR_DESPESA_MAX_CAMPANHA       \u001b[3m\u001b[90m<dbl>\u001b[39m\u001b[23m 12308, 135935, 12308, 12308, 12308, 1230~\n",
      "$ CD_SIT_TOT_TURNO              \u001b[3m\u001b[90m<int>\u001b[39m\u001b[23m 3, 4, 5, 5, 4, 5, 4, 5, 5, 5, 4, -1, 5, ~\n",
      "$ DS_SIT_TOT_TURNO              \u001b[3m\u001b[90m<chr>\u001b[39m\u001b[23m \"ELEITO POR MÉDIA\", \"NÃO ELEITO\", \"SUPLE~\n",
      "$ ST_REELEICAO                  \u001b[3m\u001b[90m<chr>\u001b[39m\u001b[23m \"N\", \"N\", \"N\", \"N\", \"N\", \"N\", \"N\", \"N\", ~\n",
      "$ ST_DECLARAR_BENS              \u001b[3m\u001b[90m<chr>\u001b[39m\u001b[23m \"S\", \"S\", \"S\", \"S\", \"S\", \"S\", \"S\", \"S\", ~\n",
      "$ NR_PROTOCOLO_CANDIDATURA      \u001b[3m\u001b[90m<int>\u001b[39m\u001b[23m -1, -1, -1, -1, -1, -1, -1, -1, -1, -1, ~\n",
      "$ NR_PROCESSO                   \u001b[3m\u001b[90m<dbl>\u001b[39m\u001b[23m 6002487420206010368, 6003751520206010368~\n",
      "$ CD_SITUACAO_CANDIDATO_PLEITO  \u001b[3m\u001b[90m<int>\u001b[39m\u001b[23m 2, 2, 2, 2, 2, 2, 2, 2, 2, 2, 2, -1, 2, ~\n",
      "$ DS_SITUACAO_CANDIDATO_PLEITO  \u001b[3m\u001b[90m<chr>\u001b[39m\u001b[23m \"DEFERIDO\", \"DEFERIDO\", \"DEFERIDO\", \"DEF~\n",
      "$ CD_SITUACAO_CANDIDATO_URNA    \u001b[3m\u001b[90m<int>\u001b[39m\u001b[23m 2, 2, 2, 2, 2, 2, 2, 2, 2, 2, 2, -1, 2, ~\n",
      "$ DS_SITUACAO_CANDIDATO_URNA    \u001b[3m\u001b[90m<chr>\u001b[39m\u001b[23m \"DEFERIDO\", \"DEFERIDO\", \"DEFERIDO\", \"DEF~\n",
      "$ ST_CANDIDATO_INSERIDO_URNA    \u001b[3m\u001b[90m<chr>\u001b[39m\u001b[23m \"SIM\", \"SIM\", \"SIM\", \"SIM\", \"SIM\", \"SIM\"~\n"
     ]
    }
   ],
   "source": [
    "glimpse(informacao_20)"
   ]
  },
  {
   "cell_type": "markdown",
   "metadata": {},
   "source": [
    " #### Selecionando variáveis e filtrando informações "
   ]
  },
  {
   "cell_type": "code",
   "execution_count": 15,
   "metadata": {},
   "outputs": [],
   "source": [
    "#Eleitos no 1º turno\n",
    "turno_1 = informacao_20 %>%\n",
    "  filter(DS_CARGO == \"PREFEITO\" & CD_TIPO_ELEICAO == 2 & NR_TURNO == 1\n",
    "         & DS_SITUACAO_CANDIDATURA == \"APTO\") %>%\n",
    "  select(SG_UE, NM_UE, NM_CANDIDATO, DS_SIT_TOT_TURNO)\n",
    "\n",
    "#Eleitos no 2º turno\n",
    "turno_2 = informacao_20 %>%\n",
    "  filter(DS_CARGO == \"PREFEITO\" & CD_TIPO_ELEICAO == 2 & NR_TURNO == 2 &\n",
    "           DS_SITUACAO_CANDIDATURA == \"APTO\") %>%\n",
    "  select(SG_UE, NM_UE, NM_CANDIDATO, DS_SIT_TOT_TURNO)"
   ]
  },
  {
   "cell_type": "markdown",
   "metadata": {},
   "source": [
    "Fazendo um `anti_join` para desconsiderar as informações dos candidatos que concorrem o 2º turno na base do 1º turno e unindo a base *anti* com *turno_2*"
   ]
  },
  {
   "cell_type": "code",
   "execution_count": 16,
   "metadata": {},
   "outputs": [],
   "source": [
    "#Anti-join\n",
    "anti = anti_join(turno_1, turno_2, by = c(\"NM_CANDIDATO\", \"SG_UE\"))\n",
    "\n",
    "#União das bases\n",
    "inf_20 = rbind(anti, turno_2)"
   ]
  },
  {
   "cell_type": "markdown",
   "metadata": {},
   "source": [
    "Checando se existe NA na variável DS_SIT_TOT_TURNO. Nessa base o NA é representado por #NULO#."
   ]
  },
  {
   "cell_type": "code",
   "execution_count": 17,
   "metadata": {},
   "outputs": [
    {
     "data": {
      "text/html": [
       "<style>\n",
       ".dl-inline {width: auto; margin:0; padding: 0}\n",
       ".dl-inline>dt, .dl-inline>dd {float: none; width: auto; display: inline-block}\n",
       ".dl-inline>dt::after {content: \":\\0020\"; padding-right: .5ex}\n",
       ".dl-inline>dt:not(:first-of-type) {padding-left: .5ex}\n",
       "</style><dl class=dl-inline><dt>#NULO#</dt><dd>32</dd><dt>ELEITO</dt><dd>5500</dd><dt>NÃO ELEITO</dt><dd>12802</dd></dl>\n"
      ],
      "text/latex": [
       "\\begin{description*}\n",
       "\\item[\\textbackslash{}\\#NULO\\textbackslash{}\\#] 32\n",
       "\\item[ELEITO] 5500\n",
       "\\item[NÃO ELEITO] 12802\n",
       "\\end{description*}\n"
      ],
      "text/markdown": [
       "#NULO#\n",
       ":   32ELEITO\n",
       ":   5500NÃO ELEITO\n",
       ":   12802\n",
       "\n"
      ],
      "text/plain": [
       "    #NULO#     ELEITO NÃO ELEITO \n",
       "        32       5500      12802 "
      ]
     },
     "metadata": {},
     "output_type": "display_data"
    }
   ],
   "source": [
    "#Transformando o tipo da variável\n",
    "inf_20 %<>%\n",
    "  mutate(DS_SIT_TOT_TURNO = as.factor(DS_SIT_TOT_TURNO))\n",
    "\n",
    "#Descrição da variável\n",
    "summary(inf_20$DS_SIT_TOT_TURNO)"
   ]
  },
  {
   "cell_type": "markdown",
   "metadata": {},
   "source": [
    "Excluindo aqueles candidatos que informações nulas"
   ]
  },
  {
   "cell_type": "code",
   "execution_count": 18,
   "metadata": {},
   "outputs": [],
   "source": [
    "inf_20 %<>%\n",
    "  filter(DS_SIT_TOT_TURNO != \"#NULO#\")"
   ]
  },
  {
   "cell_type": "markdown",
   "metadata": {},
   "source": [
    "Criando uma chave com parte do nome e da cidade para essa base de 2020."
   ]
  },
  {
   "cell_type": "code",
   "execution_count": 19,
   "metadata": {},
   "outputs": [],
   "source": [
    "inf_20 %<>%\n",
    "  mutate(CHAVE = paste0(NM_UE, NM_CANDIDATO)) %>%\n",
    "  select(-NM_CANDIDATO)"
   ]
  },
  {
   "cell_type": "markdown",
   "metadata": {},
   "source": [
    "Tratando essa base conforme feito anteriormente."
   ]
  },
  {
   "cell_type": "code",
   "execution_count": 20,
   "metadata": {},
   "outputs": [],
   "source": [
    "#Retirando todos os acentos dessa chave\n",
    "inf_20$CHAVE = stri_trans_general(str = inf_20$CHAVE, id = \"Latin-ASCII\")\n",
    "\n",
    "#Retirando os espaços brancos\n",
    "inf_20$CHAVE = gsub(\" \", \"\", inf_20$CHAVE, fixed = TRUE)\n",
    "\n",
    "#Retirando os apóstrofos\n",
    "inf_20$CHAVE = gsub(\"'\", \"\", inf_20$CHAVE, fixed = TRUE)\n",
    "\n",
    "#Retirando os traços\n",
    "inf_20$CHAVE = gsub(\"-\", \"\", inf_20$CHAVE, fixed = TRUE)"
   ]
  },
  {
   "cell_type": "markdown",
   "metadata": {},
   "source": [
    "Unindo as informações de 2016 e 2020. Isto é, descobrindo os candidatos que tentando a reeleição em 2020. Permite-se até 4 characters diferentes entre as chaves. \n"
   ]
  },
  {
   "cell_type": "code",
   "execution_count": 21,
   "metadata": {},
   "outputs": [],
   "source": [
    "base = stringdist_inner_join(x = inf_20, y = inf_16, by = \"CHAVE\",\n",
    "                             max_dist = 4)"
   ]
  },
  {
   "cell_type": "markdown",
   "metadata": {},
   "source": [
    "Se o SG_UE do *inf_20* for diferente de *inf_16* quer dizer que a união das chaves é incorreta. Portanto, exclui-se\n",
    "esses casos."
   ]
  },
  {
   "cell_type": "code",
   "execution_count": 22,
   "metadata": {},
   "outputs": [],
   "source": [
    "base %<>%\n",
    "  mutate(CONF = if_else((SG_UE.x == SG_UE.y) == TRUE, 1,0)) %>%\n",
    "  filter(CONF == 1)"
   ]
  },
  {
   "cell_type": "markdown",
   "metadata": {},
   "source": [
    "#### Descrição da base "
   ]
  },
  {
   "cell_type": "code",
   "execution_count": 23,
   "metadata": {},
   "outputs": [
    {
     "name": "stdout",
     "output_type": "stream",
     "text": [
      "Rows: 3.221\n",
      "Columns: 3\n",
      "$ SG_UE            \u001b[3m\u001b[90m<chr>\u001b[39m\u001b[23m \"1457\", \"1570\", \"1058\", \"1490\", \"1511\", \"1023\", \"1139~\n",
      "$ DS_SIT_TOT_TURNO \u001b[3m\u001b[90m<fct>\u001b[39m\u001b[23m ELEITO, NÃO ELEITO, ELEITO, ELEITO, NÃO ELEITO, ELEIT~\n",
      "$ NM_CANDIDATO     \u001b[3m\u001b[90m<chr>\u001b[39m\u001b[23m \"OSMAR SERAFIM DE ANDRADE\", \"ANTONIO BARBOSA DE SOUSA~\n"
     ]
    }
   ],
   "source": [
    "base %<>%\n",
    "  rename(SG_UE = SG_UE.x) %>%\n",
    "  select(SG_UE, DS_SIT_TOT_TURNO, NM_CANDIDATO) %>%\n",
    "  mutate(SG_UE = as.character(SG_UE))\n",
    "\n",
    "glimpse(base)"
   ]
  },
  {
   "cell_type": "markdown",
   "metadata": {},
   "source": [
    "#### **Importando dados relativos aos códigos municipais do IBGE**"
   ]
  },
  {
   "cell_type": "code",
   "execution_count": 24,
   "metadata": {},
   "outputs": [],
   "source": [
    "codigo = read.csv(\"codigotse_ibge.csv\", sep = \";\")"
   ]
  },
  {
   "cell_type": "code",
   "execution_count": 25,
   "metadata": {},
   "outputs": [],
   "source": [
    "#Selecionando apenas as colunas referentes aos códigos\n",
    "codigo %<>% \n",
    "  mutate(SG_UE = as.character(codigo_tse)) %>%\n",
    "  select(SG_UE, codigo_ibge)\n",
    "\n",
    "#Fazendo o merge entre de códigos com a base\n",
    "base = inner_join(base, codigo, by = \"SG_UE\")"
   ]
  },
  {
   "cell_type": "markdown",
   "metadata": {},
   "source": [
    "#### **Importando os dados relativos a COVID-19**"
   ]
  },
  {
   "cell_type": "code",
   "execution_count": 47,
   "metadata": {},
   "outputs": [],
   "source": [
    "casos_covid = read.csv(\"covid-19(dados_municipios).csv\", encoding = \"UTF-8\")"
   ]
  },
  {
   "cell_type": "markdown",
   "metadata": {},
   "source": [
    "#### Selecionando e tratando variáveis\n"
   ]
  },
  {
   "cell_type": "code",
   "execution_count": 48,
   "metadata": {},
   "outputs": [],
   "source": [
    "casos_covid %<>%\n",
    "  rename(CODUFMUN = city_ibge_code) %>%\n",
    "  mutate(\"Óbitos Acumulados\" =\n",
    "        (last_available_deaths / estimated_population) * 100000) %>%\n",
    "  select(CODUFMUN, `Óbitos Acumulados`) %>%\n",
    "  arrange(CODUFMUN)"
   ]
  },
  {
   "cell_type": "code",
   "execution_count": 49,
   "metadata": {},
   "outputs": [
    {
     "data": {
      "text/html": [
       "<table class=\"dataframe\">\n",
       "<caption>A data.frame: 6 × 2</caption>\n",
       "<thead>\n",
       "\t<tr><th></th><th scope=col>CODUFMUN</th><th scope=col>Óbitos Acumulados</th></tr>\n",
       "\t<tr><th></th><th scope=col>&lt;int&gt;</th><th scope=col>&lt;dbl&gt;</th></tr>\n",
       "</thead>\n",
       "<tbody>\n",
       "\t<tr><th scope=row>1</th><td>11</td><td> 83,6</td></tr>\n",
       "\t<tr><th scope=row>2</th><td>12</td><td> 79,2</td></tr>\n",
       "\t<tr><th scope=row>3</th><td>13</td><td>111,5</td></tr>\n",
       "\t<tr><th scope=row>4</th><td>14</td><td>111,9</td></tr>\n",
       "\t<tr><th scope=row>5</th><td>15</td><td> 78,6</td></tr>\n",
       "\t<tr><th scope=row>6</th><td>16</td><td> 90,2</td></tr>\n",
       "</tbody>\n",
       "</table>\n"
      ],
      "text/latex": [
       "A data.frame: 6 × 2\n",
       "\\begin{tabular}{r|ll}\n",
       "  & CODUFMUN & Óbitos Acumulados\\\\\n",
       "  & <int> & <dbl>\\\\\n",
       "\\hline\n",
       "\t1 & 11 &  83,6\\\\\n",
       "\t2 & 12 &  79,2\\\\\n",
       "\t3 & 13 & 111,5\\\\\n",
       "\t4 & 14 & 111,9\\\\\n",
       "\t5 & 15 &  78,6\\\\\n",
       "\t6 & 16 &  90,2\\\\\n",
       "\\end{tabular}\n"
      ],
      "text/markdown": [
       "\n",
       "A data.frame: 6 × 2\n",
       "\n",
       "| <!--/--> | CODUFMUN &lt;int&gt; | Óbitos Acumulados &lt;dbl&gt; |\n",
       "|---|---|---|\n",
       "| 1 | 11 |  83,6 |\n",
       "| 2 | 12 |  79,2 |\n",
       "| 3 | 13 | 111,5 |\n",
       "| 4 | 14 | 111,9 |\n",
       "| 5 | 15 |  78,6 |\n",
       "| 6 | 16 |  90,2 |\n",
       "\n"
      ],
      "text/plain": [
       "  CODUFMUN Óbitos Acumulados\n",
       "1 11        83,6            \n",
       "2 12        79,2            \n",
       "3 13       111,5            \n",
       "4 14       111,9            \n",
       "5 15        78,6            \n",
       "6 16        90,2            "
      ]
     },
     "metadata": {},
     "output_type": "display_data"
    }
   ],
   "source": [
    "head(casos_covid)"
   ]
  },
  {
   "cell_type": "markdown",
   "metadata": {},
   "source": [
    "Sabe-se que os códigos do CODUFMUN de 11 a 53 são referentes ao estado. Portanto exclui-se essas informações."
   ]
  },
  {
   "cell_type": "code",
   "execution_count": 50,
   "metadata": {},
   "outputs": [],
   "source": [
    "casos_covid %<>%\n",
    "  filter(CODUFMUN < 11 | CODUFMUN > 53)"
   ]
  },
  {
   "cell_type": "markdown",
   "metadata": {},
   "source": [
    "União das bases *bases* e *casos_covid*"
   ]
  },
  {
   "cell_type": "code",
   "execution_count": 53,
   "metadata": {},
   "outputs": [],
   "source": [
    "base = left_join(base, casos_covid, by = c(\"codigo_ibge\" = \"CODUFMUN\"))"
   ]
  },
  {
   "cell_type": "markdown",
   "metadata": {},
   "source": [
    "#### Descrição da base"
   ]
  },
  {
   "cell_type": "code",
   "execution_count": 54,
   "metadata": {},
   "outputs": [
    {
     "name": "stdout",
     "output_type": "stream",
     "text": [
      "Rows: 3.221\n",
      "Columns: 5\n",
      "$ SG_UE               \u001b[3m\u001b[90m<chr>\u001b[39m\u001b[23m \"1457\", \"1570\", \"1058\", \"1490\", \"1511\", \"1023\", \"1~\n",
      "$ DS_SIT_TOT_TURNO    \u001b[3m\u001b[90m<fct>\u001b[39m\u001b[23m ELEITO, NÃO ELEITO, ELEITO, ELEITO, NÃO ELEITO, EL~\n",
      "$ NM_CANDIDATO        \u001b[3m\u001b[90m<chr>\u001b[39m\u001b[23m \"OSMAR SERAFIM DE ANDRADE\", \"ANTONIO BARBOSA DE SO~\n",
      "$ codigo_ibge         \u001b[3m\u001b[90m<int>\u001b[39m\u001b[23m 1200500, 1200054, 1200104, 1200708, 1200385, 12008~\n",
      "$ `Óbitos Acumulados` \u001b[3m\u001b[90m<dbl>\u001b[39m\u001b[23m 30,1, 119,5, 71,2, 66,3, 40,1, 85,0, 63,1, 72,5, 2~\n"
     ]
    }
   ],
   "source": [
    "glimpse(base)"
   ]
  },
  {
   "cell_type": "code",
   "execution_count": 55,
   "metadata": {},
   "outputs": [
    {
     "data": {
      "text/html": [
       "<table class=\"dataframe\">\n",
       "<caption>A data.frame: 1 × 5</caption>\n",
       "<thead>\n",
       "\t<tr><th scope=col>SG_UE</th><th scope=col>DS_SIT_TOT_TURNO</th><th scope=col>NM_CANDIDATO</th><th scope=col>codigo_ibge</th><th scope=col>Óbitos Acumulados</th></tr>\n",
       "\t<tr><th scope=col>&lt;int&gt;</th><th scope=col>&lt;int&gt;</th><th scope=col>&lt;int&gt;</th><th scope=col>&lt;int&gt;</th><th scope=col>&lt;int&gt;</th></tr>\n",
       "</thead>\n",
       "<tbody>\n",
       "\t<tr><td>0</td><td>0</td><td>0</td><td>0</td><td>0</td></tr>\n",
       "</tbody>\n",
       "</table>\n"
      ],
      "text/latex": [
       "A data.frame: 1 × 5\n",
       "\\begin{tabular}{lllll}\n",
       " SG\\_UE & DS\\_SIT\\_TOT\\_TURNO & NM\\_CANDIDATO & codigo\\_ibge & Óbitos Acumulados\\\\\n",
       " <int> & <int> & <int> & <int> & <int>\\\\\n",
       "\\hline\n",
       "\t 0 & 0 & 0 & 0 & 0\\\\\n",
       "\\end{tabular}\n"
      ],
      "text/markdown": [
       "\n",
       "A data.frame: 1 × 5\n",
       "\n",
       "| SG_UE &lt;int&gt; | DS_SIT_TOT_TURNO &lt;int&gt; | NM_CANDIDATO &lt;int&gt; | codigo_ibge &lt;int&gt; | Óbitos Acumulados &lt;int&gt; |\n",
       "|---|---|---|---|---|\n",
       "| 0 | 0 | 0 | 0 | 0 |\n",
       "\n"
      ],
      "text/plain": [
       "  SG_UE DS_SIT_TOT_TURNO NM_CANDIDATO codigo_ibge Óbitos Acumulados\n",
       "1 0     0                0            0           0                "
      ]
     },
     "metadata": {},
     "output_type": "display_data"
    }
   ],
   "source": [
    "base %>% summarise_all(~ sum(is.na(.)))"
   ]
  },
  {
   "cell_type": "markdown",
   "metadata": {},
   "source": [
    "#### Criando a variável Reeleição"
   ]
  },
  {
   "cell_type": "code",
   "execution_count": 56,
   "metadata": {},
   "outputs": [],
   "source": [
    "base %<>%\n",
    "  mutate(Reeleito = if_else(DS_SIT_TOT_TURNO == \"ELEITO\", 1, 0))"
   ]
  },
  {
   "cell_type": "markdown",
   "metadata": {},
   "source": [
    "#### Modelagem econômetrica"
   ]
  },
  {
   "cell_type": "code",
   "execution_count": 57,
   "metadata": {},
   "outputs": [
    {
     "data": {
      "text/plain": [
       "\n",
       "Call:\n",
       "glm(formula = Reeleito ~ `Óbitos Acumulados`, family = binomial(link = \"logit\"), \n",
       "    data = base)\n",
       "\n",
       "Deviance Residuals: \n",
       "   Min      1Q  Median      3Q     Max  \n",
       "-1,461  -1,453   0,920   0,923   0,956  \n",
       "\n",
       "Coefficients:\n",
       "                     Estimate Std. Error z value            Pr(>|z|)    \n",
       "(Intercept)          0,646277   0,057071    11,3 <0,0000000000000002 ***\n",
       "`Óbitos Acumulados` -0,000297   0,000986    -0,3                0,76    \n",
       "---\n",
       "Signif. codes:  0 '***' 0,001 '**' 0,01 '*' 0,05 '.' 0,1 ' ' 1\n",
       "\n",
       "(Dispersion parameter for binomial family taken to be 1)\n",
       "\n",
       "    Null deviance: 4157,9  on 3220  degrees of freedom\n",
       "Residual deviance: 4157,8  on 3219  degrees of freedom\n",
       "AIC: 4162\n",
       "\n",
       "Number of Fisher Scoring iterations: 4\n"
      ]
     },
     "metadata": {},
     "output_type": "display_data"
    }
   ],
   "source": [
    "#Logit e seus resultados\n",
    "regressao = glm(Reeleito ~ `Óbitos Acumulados`,\n",
    "    family = binomial(link = \"logit\"), data = base)\n",
    "\n",
    "summary(regressao)"
   ]
  },
  {
   "cell_type": "markdown",
   "metadata": {},
   "source": [
    "Criando campo de predição de probabilidade"
   ]
  },
  {
   "cell_type": "code",
   "execution_count": 58,
   "metadata": {},
   "outputs": [],
   "source": [
    "base$PRED = predict(regressao, newdata = base, type = \"response\")"
   ]
  },
  {
   "cell_type": "markdown",
   "metadata": {},
   "source": [
    "#### Visualização da probabilidade predida entre reeleição e casos de óbtidos acumulados "
   ]
  },
  {
   "cell_type": "code",
   "execution_count": 61,
   "metadata": {},
   "outputs": [
    {
     "data": {
      "image/png": "[encoded data removed]",
      "text/plain": [
       "plot without title"
      ]
     },
     "metadata": {
      "image/png": {
       "height": 420,
       "width": 420
      }
     },
     "output_type": "display_data"
    }
   ],
   "source": [
    "ggplot(base, aes(x = `Óbitos Acumulados`, y = PRED, colour = PRED)) +\n",
    "  geom_point(size = 3) +\n",
    "  scale_colour_gradientn(colours = c(\"deepskyblue3\",\n",
    "         \"deeppink\", \"darkorchid1\")) +\n",
    "  labs(x = \"Óbitos acumulados por COVID-19 (100k habitantes)\", \n",
    "        y = \"Probabilidade predita\",\n",
    "       title = \"Probabilidade de ser reeleito e\n",
    "                 nº de óbitos acumulados por COVID-19\",\n",
    "       caption = \"Data: TSE (2020) e  Brasil.io (2020)\") +\n",
    "  theme_classic(base_family = \"Times New Roman\", base_size = 18) +\n",
    "  theme(legend.position = \"none\",\n",
    "        axis.title.y = element_text(vjust = 3),\n",
    "        plot.title = element_text(family = \"Times New Roman\",\n",
    "                    size = (20), hjust = 0.5))\n"
   ]
  }
 ],
 "metadata": {
  "kernelspec": {
   "display_name": "R",
   "language": "R",
   "name": "ir"
  },
  "language_info": {
   "codemirror_mode": "r",
   "file_extension": ".r",
   "mimetype": "text/x-r-source",
   "name": "R",
   "pygments_lexer": "r",
   "version": "4.1.0"
  },
  "orig_nbformat": 4
 },
 "nbformat": 4,
 "nbformat_minor": 2
}
